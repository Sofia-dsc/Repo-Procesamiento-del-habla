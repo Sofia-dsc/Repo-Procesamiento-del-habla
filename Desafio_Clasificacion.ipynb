{
  "nbformat": 4,
  "nbformat_minor": 0,
  "metadata": {
    "colab": {
      "provenance": [],
      "authorship_tag": "ABX9TyM5gmySm0p82Vyjjb0jbl1a",
      "include_colab_link": true
    },
    "kernelspec": {
      "name": "python3",
      "display_name": "Python 3"
    },
    "language_info": {
      "name": "python"
    }
  },
  "cells": [
    {
      "cell_type": "markdown",
      "metadata": {
        "id": "view-in-github",
        "colab_type": "text"
      },
      "source": [
        "<a href=\"https://colab.research.google.com/github/Sofia-dsc/Repo-Procesamiento-del-habla/blob/main/Desafio_Clasificacion.ipynb\" target=\"_parent\"><img src=\"https://colab.research.google.com/assets/colab-badge.svg\" alt=\"Open In Colab\"/></a>"
      ]
    },
    {
      "cell_type": "markdown",
      "source": [
        "# **DESAFIO CLASIFICACION**"
      ],
      "metadata": {
        "id": "301CNhvVF_tr"
      }
    },
    {
      "cell_type": "markdown",
      "source": [
        "### **Alumna:** Sofía Roldán Varela"
      ],
      "metadata": {
        "id": "0niH7qaqFQEr"
      }
    },
    {
      "cell_type": "markdown",
      "source": [
        "Actividades\n",
        "\n",
        "1) Deberá elegir un dataset no trabajado en clases para clasificación\n",
        "\n",
        "2) Elija un dataset para tarea de clasificación entre los siguientes: https://archive.ics.uci.edu/datasets?Task=Classification&skip=0&take=10&sort=desc&orderBy=NumHits&search=\n",
        "\n",
        "3) No podrá repetir o utilizar el mismo dataset que algún otro estudiante. Para ello debe postear en este grupo cual es su dataset elegido. Una vez elegido no podrá cambiarlo.\n",
        "\n",
        "4) Debe postear aquí como entrega el enlace a su notebook colab público, también almacenado en su github.\n",
        "\n",
        "5) En su notebook debe tener como mínimo los siguientes apartados:\n",
        "\n",
        "5.1 Presentación del dataset\n",
        "\n",
        "5.2 Pre-procesamiento del dataset\n",
        "\n",
        "5.3 Explicación del objetivo (qué es lo que se quiere clasificar, si es binaria o no, cuáles son las clases, etc)\n",
        "\n",
        "5.4 Elección de modelos de clasificación a entrenar (minimo dos modelos, y uno de ellos debe entrenarlo con diferentes hiperparámetros para mostrar su desempeño)\n",
        "\n",
        "5.4 División del dataset para entrenar (set de entrenamiento, testeo, si usará o no cross validation)\n",
        "\n",
        "5.5 Entrenamiento de los modelos\n",
        "\n",
        "5.6 Resultados obtenidos y su análisis (contrastar métricas, matriz de confusión)\n",
        "\n",
        "5.7 Análisis de la experiencia, elección de modelo candidato"
      ],
      "metadata": {
        "id": "-Ij7QLg6NoOs"
      }
    },
    {
      "cell_type": "markdown",
      "source": [
        "# **Presentación del Dataset y Objetivo**"
      ],
      "metadata": {
        "id": "gT3iBtPrOHbn"
      }
    },
    {
      "cell_type": "markdown",
      "source": [
        "### Mi dataset elegido es sobre Clasificación de correos electrónicos como Spam o No Spam.\n",
        "### Las instancias en este conjunto de datos representan correos electrónicos, la tarea de clasificación es determinar si un correo electrónico dado es spam o no.\n",
        "\n",
        "### La última columna del archivo spambase.data indica si el correo electrónico fue considerado spam (1) o no (0), es decir, correo electrónico comercial no solicitado. La mayoría de los atributos indican si una palabra o carácter en particular apareció frecuentemente en el correo electrónico."
      ],
      "metadata": {
        "id": "kdhTInKmUb0_"
      }
    },
    {
      "cell_type": "markdown",
      "source": [
        "# **Preprocesamiento**\n",
        "### Comienzo transformando mis datos a un dataframe"
      ],
      "metadata": {
        "id": "qSUg-TDFtbrY"
      }
    },
    {
      "cell_type": "code",
      "execution_count": 14,
      "metadata": {
        "colab": {
          "base_uri": "https://localhost:8080/"
        },
        "id": "zAzRlG_jNR2E",
        "outputId": "09bc2f57-99d6-4ec6-ab83-9e2d86db8e4c"
      },
      "outputs": [
        {
          "output_type": "stream",
          "name": "stdout",
          "text": [
            "     0     1     2    3     4     5     6     7     8     9   ...    48  \\\n",
            "0  0.00  0.64  0.64  0.0  0.32  0.00  0.00  0.00  0.00  0.00  ...  0.00   \n",
            "1  0.21  0.28  0.50  0.0  0.14  0.28  0.21  0.07  0.00  0.94  ...  0.00   \n",
            "2  0.06  0.00  0.71  0.0  1.23  0.19  0.19  0.12  0.64  0.25  ...  0.01   \n",
            "3  0.00  0.00  0.00  0.0  0.63  0.00  0.31  0.63  0.31  0.63  ...  0.00   \n",
            "4  0.00  0.00  0.00  0.0  0.63  0.00  0.31  0.63  0.31  0.63  ...  0.00   \n",
            "5  0.00  0.00  0.00  0.0  1.85  0.00  0.00  1.85  0.00  0.00  ...  0.00   \n",
            "6  0.00  0.00  0.00  0.0  1.92  0.00  0.00  0.00  0.00  0.64  ...  0.00   \n",
            "7  0.00  0.00  0.00  0.0  1.88  0.00  0.00  1.88  0.00  0.00  ...  0.00   \n",
            "8  0.15  0.00  0.46  0.0  0.61  0.00  0.30  0.00  0.92  0.76  ...  0.00   \n",
            "9  0.06  0.12  0.77  0.0  0.19  0.32  0.38  0.00  0.06  0.00  ...  0.04   \n",
            "\n",
            "      49   50     51     52     53     54   55    56  57  \n",
            "0  0.000  0.0  0.778  0.000  0.000  3.756   61   278   1  \n",
            "1  0.132  0.0  0.372  0.180  0.048  5.114  101  1028   1  \n",
            "2  0.143  0.0  0.276  0.184  0.010  9.821  485  2259   1  \n",
            "3  0.137  0.0  0.137  0.000  0.000  3.537   40   191   1  \n",
            "4  0.135  0.0  0.135  0.000  0.000  3.537   40   191   1  \n",
            "5  0.223  0.0  0.000  0.000  0.000  3.000   15    54   1  \n",
            "6  0.054  0.0  0.164  0.054  0.000  1.671    4   112   1  \n",
            "7  0.206  0.0  0.000  0.000  0.000  2.450   11    49   1  \n",
            "8  0.271  0.0  0.181  0.203  0.022  9.744  445  1257   1  \n",
            "9  0.030  0.0  0.244  0.081  0.000  1.729   43   749   1  \n",
            "\n",
            "[10 rows x 58 columns]\n"
          ]
        }
      ],
      "source": [
        "import pandas as pd\n",
        "\n",
        "# Defino la ruta del archivo\n",
        "archivo = 'spambase.data'\n",
        "\n",
        "# Convierto el archivo separado por comas en un dataframe\n",
        "df = pd.read_csv(archivo, header=None) # El archivo spam.data no tiene encabezados, header=none garantiza que se leerán todos los datos correctamente\n",
        "\n",
        "# Muestro las primeras filas del DataFrame\n",
        "print(df.head(10))"
      ]
    },
    {
      "cell_type": "markdown",
      "source": [
        "### Le asigno los nombres a las columnas manualmente según la información del sitio del dataset"
      ],
      "metadata": {
        "id": "ZLGVPez7tCIy"
      }
    },
    {
      "cell_type": "code",
      "source": [
        "# Nombres de las columnas según la descripción del archivo\n",
        "columnas = ['word_freq_make', 'word_freq_address', 'word_freq_all', 'word_freq_3d', 'word_freq_our',\n",
        "            'word_freq_over', 'word_freq_remove', 'word_freq_internet', 'word_freq_order', 'word_freq_mail',\n",
        "            'word_freq_receive', 'word_freq_will', 'word_freq_people', 'word_freq_report', 'word_freq_addresses',\n",
        "            'word_freq_free', 'word_freq_business', 'word_freq_email', 'word_freq_you', 'word_freq_credit',\n",
        "            'word_freq_your', 'word_freq_font', 'word_freq_000', 'word_freq_money', 'word_freq_hp', 'word_freq_hpl',\n",
        "            'word_freq_george', 'word_freq_650', 'word_freq_lab', 'word_freq_labs', 'word_freq_telnet', 'word_freq_857',\n",
        "            'word_freq_data', 'word_freq_415', 'word_freq_85', 'word_freq_technology', 'word_freq_1999', 'word_freq_parts',\n",
        "            'word_freq_pm', 'word_freq_direct', 'word_freq_cs', 'word_freq_meeting', 'word_freq_original', 'word_freq_project',\n",
        "            'word_freq_re', 'word_freq_edu', 'word_freq_table', 'word_freq_conference', 'char_freq_;', 'char_freq_(',\n",
        "            'char_freq_[', 'char_freq_!', 'char_freq_$', 'char_freq_#', 'capital_run_length_average',\n",
        "            'capital_run_length_longest', 'capital_run_length_total', 'spam']\n",
        "\n",
        "# Asigno los nombres de columna al DataFrame\n",
        "df.columns = columnas\n",
        "\n",
        "# Muestro las primeras filas del DataFrame con nombres\n",
        "print(df.head())"
      ],
      "metadata": {
        "colab": {
          "base_uri": "https://localhost:8080/"
        },
        "id": "Oqfg3APCtAPY",
        "outputId": "6e5e6dd1-5977-4666-a877-007313019c8c"
      },
      "execution_count": 15,
      "outputs": [
        {
          "output_type": "stream",
          "name": "stdout",
          "text": [
            "   word_freq_make  word_freq_address  word_freq_all  word_freq_3d  \\\n",
            "0            0.00               0.64           0.64           0.0   \n",
            "1            0.21               0.28           0.50           0.0   \n",
            "2            0.06               0.00           0.71           0.0   \n",
            "3            0.00               0.00           0.00           0.0   \n",
            "4            0.00               0.00           0.00           0.0   \n",
            "\n",
            "   word_freq_our  word_freq_over  word_freq_remove  word_freq_internet  \\\n",
            "0           0.32            0.00              0.00                0.00   \n",
            "1           0.14            0.28              0.21                0.07   \n",
            "2           1.23            0.19              0.19                0.12   \n",
            "3           0.63            0.00              0.31                0.63   \n",
            "4           0.63            0.00              0.31                0.63   \n",
            "\n",
            "   word_freq_order  word_freq_mail  ...  char_freq_;  char_freq_(  \\\n",
            "0             0.00            0.00  ...         0.00        0.000   \n",
            "1             0.00            0.94  ...         0.00        0.132   \n",
            "2             0.64            0.25  ...         0.01        0.143   \n",
            "3             0.31            0.63  ...         0.00        0.137   \n",
            "4             0.31            0.63  ...         0.00        0.135   \n",
            "\n",
            "   char_freq_[  char_freq_!  char_freq_$  char_freq_#  \\\n",
            "0          0.0        0.778        0.000        0.000   \n",
            "1          0.0        0.372        0.180        0.048   \n",
            "2          0.0        0.276        0.184        0.010   \n",
            "3          0.0        0.137        0.000        0.000   \n",
            "4          0.0        0.135        0.000        0.000   \n",
            "\n",
            "   capital_run_length_average  capital_run_length_longest  \\\n",
            "0                       3.756                          61   \n",
            "1                       5.114                         101   \n",
            "2                       9.821                         485   \n",
            "3                       3.537                          40   \n",
            "4                       3.537                          40   \n",
            "\n",
            "   capital_run_length_total  spam  \n",
            "0                       278     1  \n",
            "1                      1028     1  \n",
            "2                      2259     1  \n",
            "3                       191     1  \n",
            "4                       191     1  \n",
            "\n",
            "[5 rows x 58 columns]\n"
          ]
        }
      ]
    },
    {
      "cell_type": "markdown",
      "source": [
        "## **Modelo 1**\n",
        "### Al trabajar con clasificación binaria, como primer modelo voy a utilizar **Logistic regression** (Regresión Logística)"
      ],
      "metadata": {
        "id": "IR6Nqh80wS_t"
      }
    },
    {
      "cell_type": "code",
      "source": [
        "import pandas as pd\n",
        "from sklearn.model_selection import train_test_split\n",
        "from sklearn.linear_model import LogisticRegression\n",
        "from sklearn.metrics import confusion_matrix, accuracy_score, classification_report\n",
        "import seaborn as sns\n",
        "import matplotlib.pyplot as plt"
      ],
      "metadata": {
        "id": "L6kUkC4xw2yj"
      },
      "execution_count": 16,
      "outputs": []
    },
    {
      "cell_type": "code",
      "source": [
        "# Cargo mis variables \"x\" e \"y\"\n",
        "X = df.drop('spam', axis=1)  # Cargo todas las columnas excepto la columna 'spam' que es la variable objetivo\n",
        "y = df['spam']  # Cargo la variable objetivo 'spam'\n",
        "\n",
        "# Divido el dataset en entrenamiento y prueba\n",
        "X_train, X_test, y_train, y_test = train_test_split(X, y, test_size=0.26, random_state=42)\n",
        "\n",
        "# Muestro el tamaño de los conjuntos\n",
        "print(f\"Conjunto de entrenamiento: {len(X_train)} ({(len(X_train) / len(X)) * 100:.2f}%)\")\n",
        "print(f\"Conjunto de validación: {len(X_test)} ({(len(X_test) / len(X)) * 100:.2f}%)\")"
      ],
      "metadata": {
        "colab": {
          "base_uri": "https://localhost:8080/"
        },
        "id": "ei9vsR0Mw-lV",
        "outputId": "e456b505-ebe4-4d8f-e134-86526f939473"
      },
      "execution_count": 21,
      "outputs": [
        {
          "output_type": "stream",
          "name": "stdout",
          "text": [
            "Conjunto de entrenamiento: 3404 (73.98%)\n",
            "Conjunto de validación: 1197 (26.02%)\n"
          ]
        }
      ]
    },
    {
      "cell_type": "code",
      "source": [
        "# Creo el modelo de Regresión Logística\n",
        "logreg = LogisticRegression(max_iter=1000)  # max_iter para evitar advertencias de convergencia"
      ],
      "metadata": {
        "id": "1Mlh7mdfyOcr"
      },
      "execution_count": 22,
      "outputs": []
    },
    {
      "cell_type": "code",
      "source": [
        "# Entreno el modelo con mis conjuntos de entrenamiento y evaluacion\n",
        "logreg.fit(X_train, y_train)"
      ],
      "metadata": {
        "colab": {
          "base_uri": "https://localhost:8080/",
          "height": 226
        },
        "id": "Q6cXKE60yVMs",
        "outputId": "cbb2feb5-2b20-408f-cefd-3f9c390900c3"
      },
      "execution_count": 24,
      "outputs": [
        {
          "output_type": "stream",
          "name": "stderr",
          "text": [
            "/usr/local/lib/python3.10/dist-packages/sklearn/linear_model/_logistic.py:469: ConvergenceWarning: lbfgs failed to converge (status=1):\n",
            "STOP: TOTAL NO. of ITERATIONS REACHED LIMIT.\n",
            "\n",
            "Increase the number of iterations (max_iter) or scale the data as shown in:\n",
            "    https://scikit-learn.org/stable/modules/preprocessing.html\n",
            "Please also refer to the documentation for alternative solver options:\n",
            "    https://scikit-learn.org/stable/modules/linear_model.html#logistic-regression\n",
            "  n_iter_i = _check_optimize_result(\n"
          ]
        },
        {
          "output_type": "execute_result",
          "data": {
            "text/plain": [
              "LogisticRegression(max_iter=1000)"
            ],
            "text/html": [
              "<style>#sk-container-id-1 {\n",
              "  /* Definition of color scheme common for light and dark mode */\n",
              "  --sklearn-color-text: black;\n",
              "  --sklearn-color-line: gray;\n",
              "  /* Definition of color scheme for unfitted estimators */\n",
              "  --sklearn-color-unfitted-level-0: #fff5e6;\n",
              "  --sklearn-color-unfitted-level-1: #f6e4d2;\n",
              "  --sklearn-color-unfitted-level-2: #ffe0b3;\n",
              "  --sklearn-color-unfitted-level-3: chocolate;\n",
              "  /* Definition of color scheme for fitted estimators */\n",
              "  --sklearn-color-fitted-level-0: #f0f8ff;\n",
              "  --sklearn-color-fitted-level-1: #d4ebff;\n",
              "  --sklearn-color-fitted-level-2: #b3dbfd;\n",
              "  --sklearn-color-fitted-level-3: cornflowerblue;\n",
              "\n",
              "  /* Specific color for light theme */\n",
              "  --sklearn-color-text-on-default-background: var(--sg-text-color, var(--theme-code-foreground, var(--jp-content-font-color1, black)));\n",
              "  --sklearn-color-background: var(--sg-background-color, var(--theme-background, var(--jp-layout-color0, white)));\n",
              "  --sklearn-color-border-box: var(--sg-text-color, var(--theme-code-foreground, var(--jp-content-font-color1, black)));\n",
              "  --sklearn-color-icon: #696969;\n",
              "\n",
              "  @media (prefers-color-scheme: dark) {\n",
              "    /* Redefinition of color scheme for dark theme */\n",
              "    --sklearn-color-text-on-default-background: var(--sg-text-color, var(--theme-code-foreground, var(--jp-content-font-color1, white)));\n",
              "    --sklearn-color-background: var(--sg-background-color, var(--theme-background, var(--jp-layout-color0, #111)));\n",
              "    --sklearn-color-border-box: var(--sg-text-color, var(--theme-code-foreground, var(--jp-content-font-color1, white)));\n",
              "    --sklearn-color-icon: #878787;\n",
              "  }\n",
              "}\n",
              "\n",
              "#sk-container-id-1 {\n",
              "  color: var(--sklearn-color-text);\n",
              "}\n",
              "\n",
              "#sk-container-id-1 pre {\n",
              "  padding: 0;\n",
              "}\n",
              "\n",
              "#sk-container-id-1 input.sk-hidden--visually {\n",
              "  border: 0;\n",
              "  clip: rect(1px 1px 1px 1px);\n",
              "  clip: rect(1px, 1px, 1px, 1px);\n",
              "  height: 1px;\n",
              "  margin: -1px;\n",
              "  overflow: hidden;\n",
              "  padding: 0;\n",
              "  position: absolute;\n",
              "  width: 1px;\n",
              "}\n",
              "\n",
              "#sk-container-id-1 div.sk-dashed-wrapped {\n",
              "  border: 1px dashed var(--sklearn-color-line);\n",
              "  margin: 0 0.4em 0.5em 0.4em;\n",
              "  box-sizing: border-box;\n",
              "  padding-bottom: 0.4em;\n",
              "  background-color: var(--sklearn-color-background);\n",
              "}\n",
              "\n",
              "#sk-container-id-1 div.sk-container {\n",
              "  /* jupyter's `normalize.less` sets `[hidden] { display: none; }`\n",
              "     but bootstrap.min.css set `[hidden] { display: none !important; }`\n",
              "     so we also need the `!important` here to be able to override the\n",
              "     default hidden behavior on the sphinx rendered scikit-learn.org.\n",
              "     See: https://github.com/scikit-learn/scikit-learn/issues/21755 */\n",
              "  display: inline-block !important;\n",
              "  position: relative;\n",
              "}\n",
              "\n",
              "#sk-container-id-1 div.sk-text-repr-fallback {\n",
              "  display: none;\n",
              "}\n",
              "\n",
              "div.sk-parallel-item,\n",
              "div.sk-serial,\n",
              "div.sk-item {\n",
              "  /* draw centered vertical line to link estimators */\n",
              "  background-image: linear-gradient(var(--sklearn-color-text-on-default-background), var(--sklearn-color-text-on-default-background));\n",
              "  background-size: 2px 100%;\n",
              "  background-repeat: no-repeat;\n",
              "  background-position: center center;\n",
              "}\n",
              "\n",
              "/* Parallel-specific style estimator block */\n",
              "\n",
              "#sk-container-id-1 div.sk-parallel-item::after {\n",
              "  content: \"\";\n",
              "  width: 100%;\n",
              "  border-bottom: 2px solid var(--sklearn-color-text-on-default-background);\n",
              "  flex-grow: 1;\n",
              "}\n",
              "\n",
              "#sk-container-id-1 div.sk-parallel {\n",
              "  display: flex;\n",
              "  align-items: stretch;\n",
              "  justify-content: center;\n",
              "  background-color: var(--sklearn-color-background);\n",
              "  position: relative;\n",
              "}\n",
              "\n",
              "#sk-container-id-1 div.sk-parallel-item {\n",
              "  display: flex;\n",
              "  flex-direction: column;\n",
              "}\n",
              "\n",
              "#sk-container-id-1 div.sk-parallel-item:first-child::after {\n",
              "  align-self: flex-end;\n",
              "  width: 50%;\n",
              "}\n",
              "\n",
              "#sk-container-id-1 div.sk-parallel-item:last-child::after {\n",
              "  align-self: flex-start;\n",
              "  width: 50%;\n",
              "}\n",
              "\n",
              "#sk-container-id-1 div.sk-parallel-item:only-child::after {\n",
              "  width: 0;\n",
              "}\n",
              "\n",
              "/* Serial-specific style estimator block */\n",
              "\n",
              "#sk-container-id-1 div.sk-serial {\n",
              "  display: flex;\n",
              "  flex-direction: column;\n",
              "  align-items: center;\n",
              "  background-color: var(--sklearn-color-background);\n",
              "  padding-right: 1em;\n",
              "  padding-left: 1em;\n",
              "}\n",
              "\n",
              "\n",
              "/* Toggleable style: style used for estimator/Pipeline/ColumnTransformer box that is\n",
              "clickable and can be expanded/collapsed.\n",
              "- Pipeline and ColumnTransformer use this feature and define the default style\n",
              "- Estimators will overwrite some part of the style using the `sk-estimator` class\n",
              "*/\n",
              "\n",
              "/* Pipeline and ColumnTransformer style (default) */\n",
              "\n",
              "#sk-container-id-1 div.sk-toggleable {\n",
              "  /* Default theme specific background. It is overwritten whether we have a\n",
              "  specific estimator or a Pipeline/ColumnTransformer */\n",
              "  background-color: var(--sklearn-color-background);\n",
              "}\n",
              "\n",
              "/* Toggleable label */\n",
              "#sk-container-id-1 label.sk-toggleable__label {\n",
              "  cursor: pointer;\n",
              "  display: block;\n",
              "  width: 100%;\n",
              "  margin-bottom: 0;\n",
              "  padding: 0.5em;\n",
              "  box-sizing: border-box;\n",
              "  text-align: center;\n",
              "}\n",
              "\n",
              "#sk-container-id-1 label.sk-toggleable__label-arrow:before {\n",
              "  /* Arrow on the left of the label */\n",
              "  content: \"▸\";\n",
              "  float: left;\n",
              "  margin-right: 0.25em;\n",
              "  color: var(--sklearn-color-icon);\n",
              "}\n",
              "\n",
              "#sk-container-id-1 label.sk-toggleable__label-arrow:hover:before {\n",
              "  color: var(--sklearn-color-text);\n",
              "}\n",
              "\n",
              "/* Toggleable content - dropdown */\n",
              "\n",
              "#sk-container-id-1 div.sk-toggleable__content {\n",
              "  max-height: 0;\n",
              "  max-width: 0;\n",
              "  overflow: hidden;\n",
              "  text-align: left;\n",
              "  /* unfitted */\n",
              "  background-color: var(--sklearn-color-unfitted-level-0);\n",
              "}\n",
              "\n",
              "#sk-container-id-1 div.sk-toggleable__content.fitted {\n",
              "  /* fitted */\n",
              "  background-color: var(--sklearn-color-fitted-level-0);\n",
              "}\n",
              "\n",
              "#sk-container-id-1 div.sk-toggleable__content pre {\n",
              "  margin: 0.2em;\n",
              "  border-radius: 0.25em;\n",
              "  color: var(--sklearn-color-text);\n",
              "  /* unfitted */\n",
              "  background-color: var(--sklearn-color-unfitted-level-0);\n",
              "}\n",
              "\n",
              "#sk-container-id-1 div.sk-toggleable__content.fitted pre {\n",
              "  /* unfitted */\n",
              "  background-color: var(--sklearn-color-fitted-level-0);\n",
              "}\n",
              "\n",
              "#sk-container-id-1 input.sk-toggleable__control:checked~div.sk-toggleable__content {\n",
              "  /* Expand drop-down */\n",
              "  max-height: 200px;\n",
              "  max-width: 100%;\n",
              "  overflow: auto;\n",
              "}\n",
              "\n",
              "#sk-container-id-1 input.sk-toggleable__control:checked~label.sk-toggleable__label-arrow:before {\n",
              "  content: \"▾\";\n",
              "}\n",
              "\n",
              "/* Pipeline/ColumnTransformer-specific style */\n",
              "\n",
              "#sk-container-id-1 div.sk-label input.sk-toggleable__control:checked~label.sk-toggleable__label {\n",
              "  color: var(--sklearn-color-text);\n",
              "  background-color: var(--sklearn-color-unfitted-level-2);\n",
              "}\n",
              "\n",
              "#sk-container-id-1 div.sk-label.fitted input.sk-toggleable__control:checked~label.sk-toggleable__label {\n",
              "  background-color: var(--sklearn-color-fitted-level-2);\n",
              "}\n",
              "\n",
              "/* Estimator-specific style */\n",
              "\n",
              "/* Colorize estimator box */\n",
              "#sk-container-id-1 div.sk-estimator input.sk-toggleable__control:checked~label.sk-toggleable__label {\n",
              "  /* unfitted */\n",
              "  background-color: var(--sklearn-color-unfitted-level-2);\n",
              "}\n",
              "\n",
              "#sk-container-id-1 div.sk-estimator.fitted input.sk-toggleable__control:checked~label.sk-toggleable__label {\n",
              "  /* fitted */\n",
              "  background-color: var(--sklearn-color-fitted-level-2);\n",
              "}\n",
              "\n",
              "#sk-container-id-1 div.sk-label label.sk-toggleable__label,\n",
              "#sk-container-id-1 div.sk-label label {\n",
              "  /* The background is the default theme color */\n",
              "  color: var(--sklearn-color-text-on-default-background);\n",
              "}\n",
              "\n",
              "/* On hover, darken the color of the background */\n",
              "#sk-container-id-1 div.sk-label:hover label.sk-toggleable__label {\n",
              "  color: var(--sklearn-color-text);\n",
              "  background-color: var(--sklearn-color-unfitted-level-2);\n",
              "}\n",
              "\n",
              "/* Label box, darken color on hover, fitted */\n",
              "#sk-container-id-1 div.sk-label.fitted:hover label.sk-toggleable__label.fitted {\n",
              "  color: var(--sklearn-color-text);\n",
              "  background-color: var(--sklearn-color-fitted-level-2);\n",
              "}\n",
              "\n",
              "/* Estimator label */\n",
              "\n",
              "#sk-container-id-1 div.sk-label label {\n",
              "  font-family: monospace;\n",
              "  font-weight: bold;\n",
              "  display: inline-block;\n",
              "  line-height: 1.2em;\n",
              "}\n",
              "\n",
              "#sk-container-id-1 div.sk-label-container {\n",
              "  text-align: center;\n",
              "}\n",
              "\n",
              "/* Estimator-specific */\n",
              "#sk-container-id-1 div.sk-estimator {\n",
              "  font-family: monospace;\n",
              "  border: 1px dotted var(--sklearn-color-border-box);\n",
              "  border-radius: 0.25em;\n",
              "  box-sizing: border-box;\n",
              "  margin-bottom: 0.5em;\n",
              "  /* unfitted */\n",
              "  background-color: var(--sklearn-color-unfitted-level-0);\n",
              "}\n",
              "\n",
              "#sk-container-id-1 div.sk-estimator.fitted {\n",
              "  /* fitted */\n",
              "  background-color: var(--sklearn-color-fitted-level-0);\n",
              "}\n",
              "\n",
              "/* on hover */\n",
              "#sk-container-id-1 div.sk-estimator:hover {\n",
              "  /* unfitted */\n",
              "  background-color: var(--sklearn-color-unfitted-level-2);\n",
              "}\n",
              "\n",
              "#sk-container-id-1 div.sk-estimator.fitted:hover {\n",
              "  /* fitted */\n",
              "  background-color: var(--sklearn-color-fitted-level-2);\n",
              "}\n",
              "\n",
              "/* Specification for estimator info (e.g. \"i\" and \"?\") */\n",
              "\n",
              "/* Common style for \"i\" and \"?\" */\n",
              "\n",
              ".sk-estimator-doc-link,\n",
              "a:link.sk-estimator-doc-link,\n",
              "a:visited.sk-estimator-doc-link {\n",
              "  float: right;\n",
              "  font-size: smaller;\n",
              "  line-height: 1em;\n",
              "  font-family: monospace;\n",
              "  background-color: var(--sklearn-color-background);\n",
              "  border-radius: 1em;\n",
              "  height: 1em;\n",
              "  width: 1em;\n",
              "  text-decoration: none !important;\n",
              "  margin-left: 1ex;\n",
              "  /* unfitted */\n",
              "  border: var(--sklearn-color-unfitted-level-1) 1pt solid;\n",
              "  color: var(--sklearn-color-unfitted-level-1);\n",
              "}\n",
              "\n",
              ".sk-estimator-doc-link.fitted,\n",
              "a:link.sk-estimator-doc-link.fitted,\n",
              "a:visited.sk-estimator-doc-link.fitted {\n",
              "  /* fitted */\n",
              "  border: var(--sklearn-color-fitted-level-1) 1pt solid;\n",
              "  color: var(--sklearn-color-fitted-level-1);\n",
              "}\n",
              "\n",
              "/* On hover */\n",
              "div.sk-estimator:hover .sk-estimator-doc-link:hover,\n",
              ".sk-estimator-doc-link:hover,\n",
              "div.sk-label-container:hover .sk-estimator-doc-link:hover,\n",
              ".sk-estimator-doc-link:hover {\n",
              "  /* unfitted */\n",
              "  background-color: var(--sklearn-color-unfitted-level-3);\n",
              "  color: var(--sklearn-color-background);\n",
              "  text-decoration: none;\n",
              "}\n",
              "\n",
              "div.sk-estimator.fitted:hover .sk-estimator-doc-link.fitted:hover,\n",
              ".sk-estimator-doc-link.fitted:hover,\n",
              "div.sk-label-container:hover .sk-estimator-doc-link.fitted:hover,\n",
              ".sk-estimator-doc-link.fitted:hover {\n",
              "  /* fitted */\n",
              "  background-color: var(--sklearn-color-fitted-level-3);\n",
              "  color: var(--sklearn-color-background);\n",
              "  text-decoration: none;\n",
              "}\n",
              "\n",
              "/* Span, style for the box shown on hovering the info icon */\n",
              ".sk-estimator-doc-link span {\n",
              "  display: none;\n",
              "  z-index: 9999;\n",
              "  position: relative;\n",
              "  font-weight: normal;\n",
              "  right: .2ex;\n",
              "  padding: .5ex;\n",
              "  margin: .5ex;\n",
              "  width: min-content;\n",
              "  min-width: 20ex;\n",
              "  max-width: 50ex;\n",
              "  color: var(--sklearn-color-text);\n",
              "  box-shadow: 2pt 2pt 4pt #999;\n",
              "  /* unfitted */\n",
              "  background: var(--sklearn-color-unfitted-level-0);\n",
              "  border: .5pt solid var(--sklearn-color-unfitted-level-3);\n",
              "}\n",
              "\n",
              ".sk-estimator-doc-link.fitted span {\n",
              "  /* fitted */\n",
              "  background: var(--sklearn-color-fitted-level-0);\n",
              "  border: var(--sklearn-color-fitted-level-3);\n",
              "}\n",
              "\n",
              ".sk-estimator-doc-link:hover span {\n",
              "  display: block;\n",
              "}\n",
              "\n",
              "/* \"?\"-specific style due to the `<a>` HTML tag */\n",
              "\n",
              "#sk-container-id-1 a.estimator_doc_link {\n",
              "  float: right;\n",
              "  font-size: 1rem;\n",
              "  line-height: 1em;\n",
              "  font-family: monospace;\n",
              "  background-color: var(--sklearn-color-background);\n",
              "  border-radius: 1rem;\n",
              "  height: 1rem;\n",
              "  width: 1rem;\n",
              "  text-decoration: none;\n",
              "  /* unfitted */\n",
              "  color: var(--sklearn-color-unfitted-level-1);\n",
              "  border: var(--sklearn-color-unfitted-level-1) 1pt solid;\n",
              "}\n",
              "\n",
              "#sk-container-id-1 a.estimator_doc_link.fitted {\n",
              "  /* fitted */\n",
              "  border: var(--sklearn-color-fitted-level-1) 1pt solid;\n",
              "  color: var(--sklearn-color-fitted-level-1);\n",
              "}\n",
              "\n",
              "/* On hover */\n",
              "#sk-container-id-1 a.estimator_doc_link:hover {\n",
              "  /* unfitted */\n",
              "  background-color: var(--sklearn-color-unfitted-level-3);\n",
              "  color: var(--sklearn-color-background);\n",
              "  text-decoration: none;\n",
              "}\n",
              "\n",
              "#sk-container-id-1 a.estimator_doc_link.fitted:hover {\n",
              "  /* fitted */\n",
              "  background-color: var(--sklearn-color-fitted-level-3);\n",
              "}\n",
              "</style><div id=\"sk-container-id-1\" class=\"sk-top-container\"><div class=\"sk-text-repr-fallback\"><pre>LogisticRegression(max_iter=1000)</pre><b>In a Jupyter environment, please rerun this cell to show the HTML representation or trust the notebook. <br />On GitHub, the HTML representation is unable to render, please try loading this page with nbviewer.org.</b></div><div class=\"sk-container\" hidden><div class=\"sk-item\"><div class=\"sk-estimator fitted sk-toggleable\"><input class=\"sk-toggleable__control sk-hidden--visually\" id=\"sk-estimator-id-1\" type=\"checkbox\" checked><label for=\"sk-estimator-id-1\" class=\"sk-toggleable__label fitted sk-toggleable__label-arrow fitted\">&nbsp;&nbsp;LogisticRegression<a class=\"sk-estimator-doc-link fitted\" rel=\"noreferrer\" target=\"_blank\" href=\"https://scikit-learn.org/1.5/modules/generated/sklearn.linear_model.LogisticRegression.html\">?<span>Documentation for LogisticRegression</span></a><span class=\"sk-estimator-doc-link fitted\">i<span>Fitted</span></span></label><div class=\"sk-toggleable__content fitted\"><pre>LogisticRegression(max_iter=1000)</pre></div> </div></div></div></div>"
            ]
          },
          "metadata": {},
          "execution_count": 24
        }
      ]
    },
    {
      "cell_type": "code",
      "source": [
        "# Realizo las predicciones\n",
        "y_pred = logreg.predict(X_test)\n",
        "\n",
        "# Evaluo el modelo con la métrica accuracy\n",
        "accuracy = accuracy_score(y_test, y_pred)\n",
        "print(f\"Accuracy: {accuracy:.4f}\")\n",
        "\n",
        "# Hago reporte de clasificación (métricas como precisión, recall, F1-score)\n",
        "print(\"\\nReporte de clasificación:\")\n",
        "print (classification_report(y_test, y_pred))\n",
        "\n",
        "# Genero la matriz de confusión\n",
        "matrix = confusion_matrix(y_test, y_pred)"
      ],
      "metadata": {
        "colab": {
          "base_uri": "https://localhost:8080/"
        },
        "id": "28t-I0Jjyui9",
        "outputId": "373c2695-9b31-45e5-8332-db6ac34003f9"
      },
      "execution_count": 27,
      "outputs": [
        {
          "output_type": "stream",
          "name": "stdout",
          "text": [
            "Accuracy: 0.9240\n",
            "\n",
            "Reporte de clasificación:\n",
            "              precision    recall  f1-score   support\n",
            "\n",
            "           0       0.92      0.96      0.94       701\n",
            "           1       0.94      0.88      0.91       496\n",
            "\n",
            "    accuracy                           0.92      1197\n",
            "   macro avg       0.93      0.92      0.92      1197\n",
            "weighted avg       0.92      0.92      0.92      1197\n",
            "\n"
          ]
        }
      ]
    },
    {
      "cell_type": "code",
      "source": [
        "# Grafico mi matriz de confusión\n",
        "plt.figure(figsize=(7, 5))\n",
        "sns.heatmap(matrix, annot=True, fmt=\"d\", cmap=\"Blues\", xticklabels=[\"No Spam\", \"Spam\"], yticklabels=[\"No Spam\", \"Spam\"])\n",
        "plt.title(\"Matriz de Confusión\")\n",
        "plt.xlabel(\"Predicción\")\n",
        "plt.ylabel(\"Realidad\")\n",
        "plt.show()"
      ],
      "metadata": {
        "colab": {
          "base_uri": "https://localhost:8080/",
          "height": 487
        },
        "id": "mD3LFp_AzhUz",
        "outputId": "ea101a2c-edb7-45f8-bdd0-33cc9e94a257"
      },
      "execution_count": 30,
      "outputs": [
        {
          "output_type": "display_data",
          "data": {
            "text/plain": [
              "<Figure size 700x500 with 2 Axes>"
            ],
            "image/png": "[encoded data removed]"
          },
          "metadata": {}
        }
      ]
    },
    {
      "cell_type": "markdown",
      "source": [
        "Esta matriz muestra **672 Verdareros negativos (TN):** Los correos que son No Spam (en realidad no son spam) y que el modelo ha clasificado correctamente como No Spam.\n",
        "\n",
        "**29 Falsos positivos (FP):** Los correos que son No Spam pero que el modelo ha clasificado incorrectamente como Spam.\n",
        "\n",
        "**62 Falsos negativos (FN):** Los correos que son Spam pero que el modelo ha clasificado incorrectamente como No Spam.\n",
        "\n",
        "**434 Verdaderos positivos (TP):** Los correos que son Spam (en realidad son spam) y que el modelo ha clasificado correctamente como Spam.\n",
        "\n",
        "Podemos deducir que el modelo es bueno."
      ],
      "metadata": {
        "id": "aN0It9vlDBh8"
      }
    },
    {
      "cell_type": "markdown",
      "source": [
        "## **Modelo 2**\n",
        "### Para el segundo modelo voy a trabajar con un **Arbol de decisión**. Para este modelo voy a establecer otros parametros en los conjuntos de entrenamiento y testeo, y utilizaré los siguientes hiperparametros\n",
        "### **max_depth:** Limita la profundidad del árbol.\n",
        "### **min_samples_split:** El número mínimo de muestras necesarias para dividir un nodo.\n",
        "### **min_samples_leaf:** El número mínimo de muestras necesarias en un nodo hoja.\n",
        "\n",
        "### --> En mi modelo:\n",
        "### **max_depth:** profundidad de 6\n",
        "### **min_samples_split:** 10 muestras\n",
        "### **min_samples_leaf:** 5 muestras"
      ],
      "metadata": {
        "id": "0Hopvx3r1C7D"
      }
    },
    {
      "cell_type": "markdown",
      "source": [
        "### **Preprocesamiento**"
      ],
      "metadata": {
        "id": "6tjwj3mo5o6V"
      }
    },
    {
      "cell_type": "code",
      "source": [
        "# Cargo las variables \"x\" e \"y\"\n",
        "X_2 = df.drop('spam', axis=1)  # Cargo todas las columnas excepto la columna 'spam' que es la variable objetivo\n",
        "y_2 = df['spam']  # Cargo la variable objetivo 'spam'\n",
        "\n",
        "# Divido el dataset en entrenamiento y prueba\n",
        "X_train_2, X_test_2, y_train_2, y_test_2 = train_test_split(X_2, y_2, test_size=0.35, random_state=42)\n",
        "\n",
        "# Muestro el tamaño de los conjuntos\n",
        "print(f\"Conjunto de entrenamiento: {len(X_train_2)} ({(len(X_train_2) / len(X_2)) * 100:.2f}%)\")\n",
        "print(f\"Conjunto de validación: {len(X_test_2)} ({(len(X_test_2) / len(X_2)) * 100:.2f}%)\")"
      ],
      "metadata": {
        "colab": {
          "base_uri": "https://localhost:8080/"
        },
        "id": "nv-y1-VY3xiZ",
        "outputId": "5678ef09-336f-4899-bb60-04d2359765c2"
      },
      "execution_count": 39,
      "outputs": [
        {
          "output_type": "stream",
          "name": "stdout",
          "text": [
            "Conjunto de entrenamiento: 2990 (64.99%)\n",
            "Conjunto de validación: 1611 (35.01%)\n"
          ]
        }
      ]
    },
    {
      "cell_type": "markdown",
      "source": [
        "### **Creación del modelo de Árbol de Decisión**"
      ],
      "metadata": {
        "id": "fhv1uaez50hM"
      }
    },
    {
      "cell_type": "code",
      "source": [
        "from sklearn.tree import DecisionTreeClassifier\n",
        "from sklearn.metrics import accuracy_score, confusion_matrix"
      ],
      "metadata": {
        "id": "g5a1MRxc5jKb"
      },
      "execution_count": 34,
      "outputs": []
    },
    {
      "cell_type": "code",
      "source": [
        "# Creo el modelo de Árbol de Decisión\n",
        "tree_model = DecisionTreeClassifier(random_state=42, max_depth=6, min_samples_split=10, min_samples_leaf=5)\n",
        "\n",
        "# Entreno el modelo con los nuevos sets de entrenamiento\n",
        "tree_model.fit(X_train_2, y_train_2)\n",
        "\n",
        "# Realizo las predicciones en el nuevo conjunto de prueba\n",
        "y_pred_tree = tree_model.predict(X_test_2)"
      ],
      "metadata": {
        "id": "AdVaSdVu5m9g"
      },
      "execution_count": 42,
      "outputs": []
    },
    {
      "cell_type": "code",
      "source": [
        "# Evaluo el modelo con los nuevos parámetros\n",
        "accuracy_tree = accuracy_score(y_test_2, y_pred_tree)\n",
        "print(f\"Precisión con ajustes de hiperparámetros: {accuracy_tree:.4f}\")\n",
        "\n",
        "# Genero la matriz de confusión\n",
        "matrix_tree = confusion_matrix(y_test_2, y_pred_tree)"
      ],
      "metadata": {
        "colab": {
          "base_uri": "https://localhost:8080/"
        },
        "id": "HtMvxfRA7PFc",
        "outputId": "73110083-ec01-4c48-8521-dadc91595ef0"
      },
      "execution_count": 43,
      "outputs": [
        {
          "output_type": "stream",
          "name": "stdout",
          "text": [
            "Precisión con ajustes de hiperparámetros: 0.9156\n"
          ]
        }
      ]
    },
    {
      "cell_type": "code",
      "source": [
        "# Hago reporte de clasificación (métricas como precisión, recall, F1-score)\n",
        "print(\"\\nReporte de clasificación:\")\n",
        "print (classification_report(y_test_2, y_pred_tree))"
      ],
      "metadata": {
        "colab": {
          "base_uri": "https://localhost:8080/"
        },
        "id": "QMMtIiWI_LGD",
        "outputId": "7c563745-1f93-41db-abaf-21e4006ebb03"
      },
      "execution_count": 47,
      "outputs": [
        {
          "output_type": "stream",
          "name": "stdout",
          "text": [
            "\n",
            "Reporte de clasificación:\n",
            "              precision    recall  f1-score   support\n",
            "\n",
            "           0       0.91      0.96      0.93       948\n",
            "           1       0.93      0.86      0.89       663\n",
            "\n",
            "    accuracy                           0.92      1611\n",
            "   macro avg       0.92      0.91      0.91      1611\n",
            "weighted avg       0.92      0.92      0.91      1611\n",
            "\n"
          ]
        }
      ]
    },
    {
      "cell_type": "code",
      "source": [
        "# Visualizo la matriz de confusión del segundo modelo\n",
        "plt.figure(figsize=(7, 5))\n",
        "sns.heatmap(matrix_tree, annot=True, fmt='d', cmap='Reds', xticklabels=['No Spam', 'Spam'], yticklabels=['No Spam', 'Spam'])\n",
        "plt.xlabel('Predicción')\n",
        "plt.ylabel('Real')\n",
        "plt.title('Matriz de Confusión - Árbol de Decisión')\n",
        "plt.show()"
      ],
      "metadata": {
        "colab": {
          "base_uri": "https://localhost:8080/",
          "height": 487
        },
        "id": "uNIqzmb57tOU",
        "outputId": "2ed78aef-6d87-492f-beb3-7d58670c6185"
      },
      "execution_count": 46,
      "outputs": [
        {
          "output_type": "display_data",
          "data": {
            "text/plain": [
              "<Figure size 700x500 with 2 Axes>"
            ],
            "image/png": "[encoded data removed]"
          },
          "metadata": {}
        }
      ]
    },
    {
      "cell_type": "markdown",
      "source": [
        "Esta matriz muestra **906 Verdareros negativos (TN):** Los correos que son No Spam (en realidad no son spam) y que el modelo ha clasificado correctamente como No Spam.\n",
        "\n",
        "**42 Falsos positivos (FP):** Los correos que son No Spam pero que el modelo ha clasificado incorrectamente como Spam.\n",
        "\n",
        "**94 Falsos negativos (FN):** Los correos que son Spam pero que el modelo ha clasificado incorrectamente como No Spam.\n",
        "\n",
        "**569 Verdaderos positivos (TP):** Los correos que son Spam (en realidad son spam) y que el modelo ha clasificado correctamente como Spam.\n",
        "\n",
        "Podemos deducir que este modelo también es bueno."
      ],
      "metadata": {
        "id": "IzJAsg-uEJIr"
      }
    },
    {
      "cell_type": "markdown",
      "source": [
        "# ***Conclusión***\n",
        "## Análisis de resultado del modelo 1 (Regresión Logística):\n",
        "\n",
        "Accuracy: 0.9240\n",
        "\n",
        "Reporte de clasificación:\n",
        "              precision    recall  f1-score   support\n",
        "\n",
        "           0       0.92      0.96      0.94       701\n",
        "           1       0.94      0.88      0.91       496\n",
        "\n",
        "    accuracy                           0.92      1197\n",
        "   macro avg       0.93      0.92      0.92      1197\n",
        "weighted avg       0.92      0.92      0.92      1197\n",
        "\n",
        "### Este modelo muestra una exactitud del 92%, lo que significa que el modelo acierta en el 92% de las predicciones realizadas.\n",
        "\n",
        "### La precisión de 0.92 indica que el 92% de las veces que el modelo predice \"No Spam\", realmente es \"No Spam\".\n",
        "\n",
        "### El recall de 0.96 muestra que el modelo tiene una alta capacidad para identificar correctamente los correos legítimos, con un 96% de los correos \"No Spam\" correctamente identificados.\n",
        "\n",
        "### El F1-score de 0.94 indica un buen balance entre precisión y recall.\n",
        "\n",
        "\n",
        "## Análisis de resultado del modelo 2 (Arbol de decisión):\n",
        "Precisión con ajustes de hiperparámetros: 0.9156\n",
        "\n",
        "Reporte de clasificación:\n",
        "              precision    recall  f1-score   support\n",
        "\n",
        "           0       0.91      0.96      0.93       948\n",
        "           1       0.93      0.86      0.89       663\n",
        "\n",
        "    accuracy                           0.92      1611\n",
        "   macro avg       0.92      0.91      0.91      1611\n",
        "weighted avg       0.92      0.92      0.91      1611\n",
        "\n",
        "### El segundo modelo muestra una exactitud del 91% indicando que el modelo es bastante competente para clasificar correctamente.\n",
        "\n",
        "### Al igual que en el modelo de regresión logística, el modelo de árbol de decisión tiene una alta precisión y recall para la clase \"No Spam\", aunque la precisión es un poco más baja (0.91 frente a 0.92). Esto significa que hay una pequeña cantidad de correos \"No Spam\" clasificados incorrectamente como \"Spam\", pero sigue siendo un buen rendimiento. El recall de 0.96 sigue mostrando que el modelo identifica muy bien los correos \"No Spam\".\n",
        "\n",
        "## En resumen\n",
        "\n",
        "### Ambos modelos muestran precisiones altas. Pero el segundo modelo de árbol de decisión es un poco más baja que la del modelo de regresión logística (91.56% frente a 92.40%), por ende, el modelo electo sería el segundo: **Regresión logística**"
      ],
      "metadata": {
        "id": "1t1Iwtmj_Ww5"
      }
    },
    {
      "cell_type": "markdown",
      "source": [
        "Para realizar este trabajo me ayudé de los siguientes sitios\n",
        "\n",
        "Documentación oficial de Scikit-learn sobre matrices de confusión: https://scikit-learn.org/stable/modules/generated/sklearn.metrics.confusion_matrix.html\n",
        "\n",
        "Artículo explicativo sobre matrices de confusión y métricas: https://www.analyticsvidhya.com/blog/2020/06/understanding-confusion-matrix-in-machine-learning/\n",
        "\n",
        "Guía práctica sobre métricas de clasificación (precision, recall, F1, etc.): https://towardsdatascience.com/understanding-classification-metrics-5b86becc3ed0"
      ],
      "metadata": {
        "id": "U8PR-5fGEsni"
      }
    }
  ]
}